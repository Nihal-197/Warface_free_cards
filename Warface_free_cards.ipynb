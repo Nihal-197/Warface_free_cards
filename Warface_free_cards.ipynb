{
 "cells": [
  {
   "cell_type": "code",
   "execution_count": 22,
   "metadata": {},
   "outputs": [],
   "source": [
    "import pulp\n",
    "import warnings\n",
    "warnings.filterwarnings('ignore')"
   ]
  },
  {
   "cell_type": "code",
   "execution_count": 77,
   "metadata": {},
   "outputs": [],
   "source": [
    "# Instantiate our problem class\n",
    "\n",
    "model = pulp.LpProblem(\"Profit maximising problem\", pulp.LpMaximize)"
   ]
  },
  {
   "cell_type": "code",
   "execution_count": 78,
   "metadata": {},
   "outputs": [],
   "source": [
    "#using integer category \n",
    "\n",
    "free = pulp.LpVariable('free', lowBound=0, cat='Integer')\n",
    "wf_dollars = pulp.LpVariable('wf_dollars', lowBound=0, cat='Integer')\n",
    "crowns = pulp.LpVariable('crowns', lowBound=0, cat='Integer')\n",
    "kredit = pulp.LpVariable('kredit', lowBound=0, cat='Integer')"
   ]
  },
  {
   "cell_type": "code",
   "execution_count": 80,
   "metadata": {},
   "outputs": [
    {
     "name": "stdout",
     "output_type": "stream",
     "text": [
      "Total number of cards available : 8000\n"
     ]
    }
   ],
   "source": [
    "total_avail_cards = int(input(\"Total number of cards available : \"))"
   ]
  },
  {
   "cell_type": "code",
   "execution_count": 81,
   "metadata": {},
   "outputs": [
    {
     "name": "stdout",
     "output_type": "stream",
     "text": [
      "800\n"
     ]
    }
   ],
   "source": [
    "req_cards = int(input())"
   ]
  },
  {
   "cell_type": "code",
   "execution_count": 82,
   "metadata": {},
   "outputs": [
    {
     "name": "stdout",
     "output_type": "stream",
     "text": [
      "maximum wf$ 400000\n",
      "maximum crowns 10000\n",
      "maximum kredits 100\n"
     ]
    }
   ],
   "source": [
    "max_free = total_avail_cards/20\n",
    "max_wf_dollars = int(input(\"maximum wf$ \"))/15000\n",
    "max_crowns = int(input(\"maximum crowns \"))/75\n",
    "max_kredit = int(input(\"maximum kredits \"))/3"
   ]
  },
  {
   "cell_type": "code",
   "execution_count": 83,
   "metadata": {},
   "outputs": [],
   "source": [
    "# Objective function\n",
    "model += 20*free + 15*wf_dollars + 5*crowns + 2*kredit, \"Total free cards \"\n",
    "\n",
    "# Constraints\n",
    "model += free <= max_free\n",
    "model += wf_dollars <= max_wf_dollars\n",
    "model += crowns <= max_crowns\n",
    "model += kredit <= max_kredit\n",
    "model += free + wf_dollars + crowns+ kredit <= req_cards\n"
   ]
  },
  {
   "cell_type": "code",
   "execution_count": 84,
   "metadata": {},
   "outputs": [
    {
     "data": {
      "text/plain": [
       "'Optimal'"
      ]
     },
     "execution_count": 84,
     "metadata": {},
     "output_type": "execute_result"
    }
   ],
   "source": [
    "# Solve our problem\n",
    "model.solve()\n",
    "pulp.LpStatus[model.status]"
   ]
  },
  {
   "cell_type": "code",
   "execution_count": 88,
   "metadata": {},
   "outputs": [],
   "source": [
    "final_cards = free.varValue +wf_dollars.varValue+crowns.varValue+kredit.varValue"
   ]
  },
  {
   "cell_type": "code",
   "execution_count": 92,
   "metadata": {},
   "outputs": [
    {
     "name": "stdout",
     "output_type": "stream",
     "text": [
      "Maximum total cards gained : 592.0\n"
     ]
    }
   ],
   "source": [
    "if final_cards==req_cards:\n",
    "    print(\"Value of {} is {}\".format('free', free.varValue))\n",
    "    print(\"Value of {} is {} and money required is {}\".format('wf_dollars', wf_dollars.varValue, wf_dollars.varValue*15000))\n",
    "    print(\"Value of {} is {} and money required is {}\".format('crowns', crowns.varValue,crowns.varValue * 75))\n",
    "    print(\"Value of {} is {} and money required is{}\".format('kredit', kredit.varValue,kredit.varValue * 3))\n",
    "else:\n",
    "    print(\"Maximum total cards gained : {}\".format(final_cards ))"
   ]
  },
  {
   "cell_type": "code",
   "execution_count": null,
   "metadata": {},
   "outputs": [],
   "source": []
  },
  {
   "cell_type": "code",
   "execution_count": null,
   "metadata": {},
   "outputs": [],
   "source": []
  },
  {
   "cell_type": "code",
   "execution_count": null,
   "metadata": {},
   "outputs": [],
   "source": []
  },
  {
   "cell_type": "code",
   "execution_count": null,
   "metadata": {},
   "outputs": [],
   "source": []
  },
  {
   "cell_type": "code",
   "execution_count": null,
   "metadata": {
    "collapsed": true
   },
   "outputs": [],
   "source": []
  }
 ],
 "metadata": {
  "kernelspec": {
   "display_name": "Python 3",
   "language": "python",
   "name": "python3"
  },
  "language_info": {
   "codemirror_mode": {
    "name": "ipython",
    "version": 3
   },
   "file_extension": ".py",
   "mimetype": "text/x-python",
   "name": "python",
   "nbconvert_exporter": "python",
   "pygments_lexer": "ipython3",
   "version": "3.9.1"
  }
 },
 "nbformat": 4,
 "nbformat_minor": 2
}
